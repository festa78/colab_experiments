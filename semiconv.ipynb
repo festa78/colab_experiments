{
  "nbformat": 4,
  "nbformat_minor": 0,
  "metadata": {
    "colab": {
      "name": "semiconv.ipynb",
      "version": "0.3.2",
      "provenance": [],
      "collapsed_sections": [],
      "include_colab_link": true
    },
    "kernelspec": {
      "name": "python3",
      "display_name": "Python 3"
    }
  },
  "cells": [
    {
      "cell_type": "markdown",
      "metadata": {
        "id": "view-in-github",
        "colab_type": "text"
      },
      "source": [
        "<a href=\"https://colab.research.google.com/github/festa78/colab_experiments/blob/master/semiconv.ipynb\" target=\"_parent\"><img src=\"https://colab.research.google.com/assets/colab-badge.svg\" alt=\"Open In Colab\"/></a>"
      ]
    },
    {
      "cell_type": "markdown",
      "metadata": {
        "id": "fBLiAAELbHD3",
        "colab_type": "text"
      },
      "source": [
        "## Experiments to reproduce the section 4.1 Synthetic experiments in the paper [\"Semi-convolutional Operators for Instance Segmentation\"](https://arxiv.org/abs/1807.10712)\n",
        "\n",
        "This paper proposes semi convolutional operator, which adds the pixel location to a convolution layer, for instance segmentation.  \n",
        "\n",
        "In the section 4.1, the authors conducted the experiment to synthetic data to verify their idea.  \n",
        "\n",
        "In this notebook I tried to reproduce the resulits by the followings:\n",
        "\n",
        "* Create a dot image with instance IDs.\n",
        "\n",
        "* Implement simplified and truncated ResNet with semi convolutional operator by eq.(3) and (6).\n",
        "\n",
        "* Train the model on the dot image with the loss function (5).\n",
        "\n",
        "* Compare kmeans clustering results before and after the training and make sure it can reproduce the result in the Fig. 3.\n",
        "\n"
      ]
    },
    {
      "cell_type": "code",
      "metadata": {
        "id": "3SM69cDJ5yIS",
        "colab_type": "code",
        "outputId": "34fcde63-530c-4298-be41-55450de01c1b",
        "colab": {
          "base_uri": "https://localhost:8080/",
          "height": 374
        }
      },
      "source": [
        "# Set up the environment.\n",
        "!pip install tensorflow==2.0.0-beta1 opencv-python"
      ],
      "execution_count": 1,
      "outputs": [
        {
          "output_type": "stream",
          "text": [
            "Requirement already satisfied: tensorflow==2.0.0-beta1 in /usr/local/lib/python3.6/dist-packages (2.0.0b1)\n",
            "Requirement already satisfied: opencv-python in /usr/local/lib/python3.6/dist-packages (3.4.5.20)\n",
            "Requirement already satisfied: protobuf>=3.6.1 in /usr/local/lib/python3.6/dist-packages (from tensorflow==2.0.0-beta1) (3.7.1)\n",
            "Requirement already satisfied: termcolor>=1.1.0 in /usr/local/lib/python3.6/dist-packages (from tensorflow==2.0.0-beta1) (1.1.0)\n",
            "Requirement already satisfied: absl-py>=0.7.0 in /usr/local/lib/python3.6/dist-packages (from tensorflow==2.0.0-beta1) (0.7.1)\n",
            "Requirement already satisfied: google-pasta>=0.1.6 in /usr/local/lib/python3.6/dist-packages (from tensorflow==2.0.0-beta1) (0.1.7)\n",
            "Requirement already satisfied: numpy<2.0,>=1.14.5 in /usr/local/lib/python3.6/dist-packages (from tensorflow==2.0.0-beta1) (1.16.4)\n",
            "Requirement already satisfied: tf-estimator-nightly<1.14.0.dev2019060502,>=1.14.0.dev2019060501 in /usr/local/lib/python3.6/dist-packages (from tensorflow==2.0.0-beta1) (1.14.0.dev2019060501)\n",
            "Requirement already satisfied: wrapt>=1.11.1 in /usr/local/lib/python3.6/dist-packages (from tensorflow==2.0.0-beta1) (1.11.2)\n",
            "Requirement already satisfied: tb-nightly<1.14.0a20190604,>=1.14.0a20190603 in /usr/local/lib/python3.6/dist-packages (from tensorflow==2.0.0-beta1) (1.14.0a20190603)\n",
            "Requirement already satisfied: keras-applications>=1.0.6 in /usr/local/lib/python3.6/dist-packages (from tensorflow==2.0.0-beta1) (1.0.8)\n",
            "Requirement already satisfied: wheel>=0.26 in /usr/local/lib/python3.6/dist-packages (from tensorflow==2.0.0-beta1) (0.33.4)\n",
            "Requirement already satisfied: keras-preprocessing>=1.0.5 in /usr/local/lib/python3.6/dist-packages (from tensorflow==2.0.0-beta1) (1.1.0)\n",
            "Requirement already satisfied: six>=1.10.0 in /usr/local/lib/python3.6/dist-packages (from tensorflow==2.0.0-beta1) (1.12.0)\n",
            "Requirement already satisfied: astor>=0.6.0 in /usr/local/lib/python3.6/dist-packages (from tensorflow==2.0.0-beta1) (0.8.0)\n",
            "Requirement already satisfied: grpcio>=1.8.6 in /usr/local/lib/python3.6/dist-packages (from tensorflow==2.0.0-beta1) (1.15.0)\n",
            "Requirement already satisfied: gast>=0.2.0 in /usr/local/lib/python3.6/dist-packages (from tensorflow==2.0.0-beta1) (0.2.2)\n",
            "Requirement already satisfied: setuptools in /usr/local/lib/python3.6/dist-packages (from protobuf>=3.6.1->tensorflow==2.0.0-beta1) (41.0.1)\n",
            "Requirement already satisfied: werkzeug>=0.11.15 in /usr/local/lib/python3.6/dist-packages (from tb-nightly<1.14.0a20190604,>=1.14.0a20190603->tensorflow==2.0.0-beta1) (0.15.5)\n",
            "Requirement already satisfied: markdown>=2.6.8 in /usr/local/lib/python3.6/dist-packages (from tb-nightly<1.14.0a20190604,>=1.14.0a20190603->tensorflow==2.0.0-beta1) (3.1.1)\n",
            "Requirement already satisfied: h5py in /usr/local/lib/python3.6/dist-packages (from keras-applications>=1.0.6->tensorflow==2.0.0-beta1) (2.8.0)\n"
          ],
          "name": "stdout"
        }
      ]
    },
    {
      "cell_type": "code",
      "metadata": {
        "id": "gA4wPICNAfpA",
        "colab_type": "code",
        "colab": {}
      },
      "source": [
        "# Import Python libraries.\n",
        "import cv2\n",
        "import matplotlib.pyplot as plt\n",
        "%matplotlib inline\n",
        "import numpy as np\n",
        "from sklearn.cluster import KMeans\n",
        "import tensorflow as tf\n",
        "from tensorflow.keras import Model\n",
        "from tensorflow.keras.layers import (Add, Input, Conv2D, BatchNormalization,\n",
        "                                     Activation, MaxPooling2D)"
      ],
      "execution_count": 0,
      "outputs": []
    },
    {
      "cell_type": "code",
      "metadata": {
        "id": "rUt0GZea6o8c",
        "colab_type": "code",
        "outputId": "582bf6e0-58ef-4237-e01d-485713c16079",
        "colab": {
          "base_uri": "https://localhost:8080/",
          "height": 272
        }
      },
      "source": [
        "# Create a dot image.\n",
        "NUM_DOTS_PER_ROW = 5\n",
        "RADIUS_PIXEL = 2\n",
        "num_classes = NUM_DOTS_PER_ROW ** 2\n",
        "\n",
        "image_size = NUM_DOTS_PER_ROW * (RADIUS_PIXEL * 3) + RADIUS_PIXEL\n",
        "image = np.zeros((image_size, image_size, 3), np.float32)\n",
        "label = np.zeros((image_size, image_size), np.uint8)\n",
        "\n",
        "for i in range(NUM_DOTS_PER_ROW):\n",
        "  for j in range(NUM_DOTS_PER_ROW):\n",
        "    cv2.circle(image, (i * (RADIUS_PIXEL * 3) + 2 * RADIUS_PIXEL, j * (RADIUS_PIXEL * 3) + 2 * RADIUS_PIXEL), RADIUS_PIXEL, (255, 255, 255), -1)\n",
        "    cv2.circle(label, (i * (RADIUS_PIXEL * 3) + 2 * RADIUS_PIXEL, j * (RADIUS_PIXEL * 3) + 2 * RADIUS_PIXEL), RADIUS_PIXEL, (i * NUM_DOTS_PER_ROW + j) + 1, -1)\n",
        "    \n",
        "print('image shape', image.shape)\n",
        "plt.subplot(121)\n",
        "plt.imshow(image)\n",
        "plt.subplot(122)\n",
        "plt.imshow(label)"
      ],
      "execution_count": 3,
      "outputs": [
        {
          "output_type": "stream",
          "text": [
            "WARNING: Logging before flag parsing goes to stderr.\n",
            "W0810 08:01:33.651511 139641634342784 image.py:648] Clipping input data to the valid range for imshow with RGB data ([0..1] for floats or [0..255] for integers).\n"
          ],
          "name": "stderr"
        },
        {
          "output_type": "stream",
          "text": [
            "image shape (32, 32, 3)\n"
          ],
          "name": "stdout"
        },
        {
          "output_type": "execute_result",
          "data": {
            "text/plain": [
              "<matplotlib.image.AxesImage at 0x7f008bda6d30>"
            ]
          },
          "metadata": {
            "tags": []
          },
          "execution_count": 3
        },
        {
          "output_type": "display_data",
          "data": {
            "image/png": "[encoded data removed]",
            "text/plain": [
              "<Figure size 432x288 with 2 Axes>"
            ]
          },
          "metadata": {
            "tags": []
          }
        }
      ]
    },
    {
      "cell_type": "code",
      "metadata": {
        "colab_type": "code",
        "id": "zuH-lIy8FJDr",
        "colab": {}
      },
      "source": [
        "# Define truncated ResNet50.\n",
        "# No pooling and Conv2D strides for simplicity.\n",
        "class ResNet50Trunc(object):\n",
        "    '''\n",
        "    Reference:\n",
        "        \"Deep Residual Learning for Image Recognition\"\n",
        "        https://arxiv.org/abs/1512.03385\n",
        "    '''\n",
        "    def __init__(self, input_shape, output_dim=8, semi_conv=False):\n",
        "      x = Input(shape=input_shape)\n",
        "      h = Conv2D(64, kernel_size=(7, 7), padding='same')(x)\n",
        "      h = BatchNormalization()(h)\n",
        "      h = Activation('relu')(h)\n",
        "\n",
        "      h = self._building_block(h, channel_out=64)\n",
        "      h = self._building_block(h, channel_out=64)\n",
        "      h = self._building_block(h, channel_out=64)\n",
        "\n",
        "      h = Conv2D(output_dim, kernel_size=(1, 1), strides=(1, 1), padding='same')(h)\n",
        "      if semi_conv:\n",
        "        h = self._semi_conv(h)\n",
        "      h = Conv2D(output_dim, kernel_size=(1, 1), strides=(1, 1), padding='same')(h)\n",
        "      if semi_conv:\n",
        "        h = self._semi_conv(h)\n",
        "      y = Conv2D(output_dim, kernel_size=(1, 1), strides=(1, 1), padding='same')(h)\n",
        "      if semi_conv:\n",
        "        y = self._semi_conv(y)\n",
        "      self.model = Model(x, y)\n",
        "\n",
        "    def __call__(self, x):\n",
        "      return self.model(x)\n",
        "\n",
        "    def _semi_conv(self, x):\n",
        "      # The semiconvolutional operator introduced by the paper.\n",
        "      height = tf.shape(x)[1]\n",
        "      width = tf.shape(x)[2]\n",
        "      channel = tf.shape(x)[3]\n",
        "      u_x = tf.cast(tf.range(height), tf.float32) / tf.cast(height, tf.float32)\n",
        "      u_x = tf.reshape(u_x, (1, height, 1, 1))\n",
        "      u_x = tf.tile(u_x, (1, 1, width, 1))\n",
        "      u_y = tf.cast(tf.range(width), tf.float32) / tf.cast(width, tf.float32)\n",
        "      u_y = tf.reshape(u_y, (1, 1, width, 1))\n",
        "      u_y = tf.tile(u_y, (1, height, 1, 1))\n",
        "      u_other = tf.zeros_like(x)[..., :-2]\n",
        "      u = tf.concat((u_x, u_y, u_other), 3)\n",
        "      return x + u\n",
        "      \n",
        "    def _building_block(self, x, channel_out=256):\n",
        "      channel = channel_out // 4\n",
        "      h = Conv2D(channel, kernel_size=(1, 1), padding='same')(x)\n",
        "      h = BatchNormalization()(h)\n",
        "      h = Activation('relu')(h)\n",
        "      h = Conv2D(channel, kernel_size=(3, 3), padding='same')(h)\n",
        "      h = BatchNormalization()(h)\n",
        "      h = Activation('relu')(h)\n",
        "      h = Conv2D(channel_out, kernel_size=(1, 1), padding='same')(h)\n",
        "      h = BatchNormalization()(h)\n",
        "      shortcut = self._shortcut(x, output_shape=h.get_shape().as_list())\n",
        "      h = Add()([h, shortcut])\n",
        "      return Activation('relu')(h)\n",
        "\n",
        "    def _shortcut(self, x, output_shape):\n",
        "      input_shape = x.get_shape().as_list()\n",
        "      channel_in = input_shape[-1]\n",
        "      channel_out = output_shape[-1]\n",
        "\n",
        "      if channel_in != channel_out:\n",
        "        return self._projection(x, channel_out)\n",
        "      else:\n",
        "        return x\n",
        "\n",
        "    def _projection(self, x, channel_out):\n",
        "      return Conv2D(channel_out, kernel_size=(1, 1), padding='same')(x)"
      ],
      "execution_count": 0,
      "outputs": []
    },
    {
      "cell_type": "code",
      "metadata": {
        "id": "l4Q6LNm1uuY1",
        "colab_type": "code",
        "colab": {}
      },
      "source": [
        "# Loss function from eq.(5).\n",
        "def loss(feature, label_gt, num_classes):\n",
        "  # Assume id=0 is background.\n",
        "  loss_total = 0.\n",
        "  for i in range(1, num_classes + 1):\n",
        "    mask = tf.equal(label_gt, i)\n",
        "    num_pixels_i = tf.reduce_sum(tf.cast(mask, tf.float32))\n",
        "\n",
        "    feature_mask = tf.boolean_mask(feature, mask)\n",
        "    centroid = tf.reduce_sum(feature_mask, axis=[0]) / num_pixels_i\n",
        "    centroid = tf.reshape(centroid, (1, 1, 1, tf.shape(centroid)[0]))\n",
        "\n",
        "    loss_i = tf.boolean_mask(feature - centroid, mask)\n",
        "    loss_i = tf.norm(loss_i, axis=1)\n",
        "    loss_i = tf.reduce_sum(loss_i) / num_pixels_i\n",
        "    loss_total += loss_i\n",
        "    \n",
        "  loss_total /= num_classes\n",
        "  return loss_total  "
      ],
      "execution_count": 0,
      "outputs": []
    },
    {
      "cell_type": "code",
      "metadata": {
        "id": "NKUxTXF3S27n",
        "colab_type": "code",
        "colab": {}
      },
      "source": [
        "# Normal ResNet.\n",
        "model = ResNet50Trunc((image_size, image_size, 3), 8, False)\n",
        "#model.model.summary()"
      ],
      "execution_count": 0,
      "outputs": []
    },
    {
      "cell_type": "code",
      "metadata": {
        "id": "CnntugpYR6Ga",
        "colab_type": "code",
        "colab": {
          "base_uri": "https://localhost:8080/",
          "height": 286
        },
        "outputId": "4f88e808-3dc2-4c4e-d841-679b8fa490fc"
      },
      "source": [
        "image_tf = tf.expand_dims(tf.convert_to_tensor(image / 255.), axis=0)\n",
        "label_tf = tf.expand_dims(tf.convert_to_tensor(label), axis=0)\n",
        "\n",
        "# kmeans on embedded features before training.\n",
        "feature_np = model(image_tf).numpy()\n",
        "feature_flat = feature_np.reshape((image_size ** 2, 8))\n",
        "label_flat= label.flatten()\n",
        "feature_mask = feature_flat[label_flat > 0]\n",
        "\n",
        "kmeans = KMeans(n_clusters=num_classes, random_state=0).fit(feature_mask)\n",
        "labels_pred = np.zeros_like(label_flat)\n",
        "labels_pred[label_flat > 0] = kmeans.labels_ + 1\n",
        "labels_pred = labels_pred.reshape((image_size, image_size))\n",
        "\n",
        "plt.figure()\n",
        "plt.imshow(labels_pred)"
      ],
      "execution_count": 7,
      "outputs": [
        {
          "output_type": "execute_result",
          "data": {
            "text/plain": [
              "<matplotlib.image.AxesImage at 0x7f0083968a58>"
            ]
          },
          "metadata": {
            "tags": []
          },
          "execution_count": 7
        },
        {
          "output_type": "display_data",
          "data": {
            "image/png": "[encoded data removed]",
            "text/plain": [
              "<Figure size 432x288 with 1 Axes>"
            ]
          },
          "metadata": {
            "tags": []
          }
        }
      ]
    },
    {
      "cell_type": "code",
      "metadata": {
        "id": "gV0TKPivSERU",
        "colab_type": "code",
        "colab": {
          "base_uri": "https://localhost:8080/",
          "height": 173
        },
        "outputId": "ae4e6af7-fe0f-4197-e4da-1b4bb5d4f774"
      },
      "source": [
        "optimizer = tf.keras.optimizers.Adam(learning_rate=0.01)\n",
        "for i in range(100):\n",
        "  with tf.GradientTape() as tape:\n",
        "    feature = model(image_tf)\n",
        "    l = loss(feature, label_tf, num_classes)\n",
        "  \n",
        "  grads = tape.gradient(l, model.model.trainable_weights)\n",
        "  optimizer.apply_gradients(zip(grads, model.model.trainable_weights))\n",
        "  \n",
        "  if i % 20 == 0:\n",
        "    print(l)"
      ],
      "execution_count": 8,
      "outputs": [
        {
          "output_type": "stream",
          "text": [
            "W0810 08:01:35.226979 139641634342784 deprecation.py:323] From /usr/local/lib/python3.6/dist-packages/tensorflow/python/ops/array_ops.py:1340: add_dispatch_support.<locals>.wrapper (from tensorflow.python.ops.array_ops) is deprecated and will be removed in a future version.\n",
            "Instructions for updating:\n",
            "Use tf.where in 2.0, which has the same broadcast rule as np.where\n"
          ],
          "name": "stderr"
        },
        {
          "output_type": "stream",
          "text": [
            "tf.Tensor(0.17872804, shape=(), dtype=float32)\n",
            "tf.Tensor(0.006276378, shape=(), dtype=float32)\n",
            "tf.Tensor(0.0009974083, shape=(), dtype=float32)\n",
            "tf.Tensor(0.0003662576, shape=(), dtype=float32)\n",
            "tf.Tensor(0.00024741236, shape=(), dtype=float32)\n"
          ],
          "name": "stdout"
        }
      ]
    },
    {
      "cell_type": "code",
      "metadata": {
        "id": "99Pbp9NQSKEu",
        "colab_type": "code",
        "colab": {
          "base_uri": "https://localhost:8080/",
          "height": 286
        },
        "outputId": "dcde3d8c-72a3-4820-a017-9316ca64b4ba"
      },
      "source": [
        "# kmeans on embedded features after training.\n",
        "feature_np = model(image_tf).numpy()\n",
        "feature_flat = feature_np.reshape((image_size ** 2, 8))\n",
        "label_flat= label.flatten()\n",
        "feature_mask = feature_flat[label_flat > 0]\n",
        "\n",
        "kmeans = KMeans(n_clusters=num_classes, random_state=0).fit(feature_mask)\n",
        "labels_pred = np.zeros_like(label_flat)\n",
        "labels_pred[label_flat > 0] = kmeans.labels_ + 1\n",
        "labels_pred = labels_pred.reshape((image_size, image_size))\n",
        "\n",
        "plt.figure()\n",
        "plt.imshow(labels_pred)"
      ],
      "execution_count": 9,
      "outputs": [
        {
          "output_type": "execute_result",
          "data": {
            "text/plain": [
              "<matplotlib.image.AxesImage at 0x7f00838fdc88>"
            ]
          },
          "metadata": {
            "tags": []
          },
          "execution_count": 9
        },
        {
          "output_type": "display_data",
          "data": {
            "image/png": "[encoded data removed]",
            "text/plain": [
              "<Figure size 432x288 with 1 Axes>"
            ]
          },
          "metadata": {
            "tags": []
          }
        }
      ]
    },
    {
      "cell_type": "code",
      "metadata": {
        "id": "SAiueiYfS9UR",
        "colab_type": "code",
        "colab": {}
      },
      "source": [
        "# ResNet with semi convolutions.\n",
        "model = ResNet50Trunc((image_size, image_size, 3), 8, True)\n",
        "#model.model.summary()"
      ],
      "execution_count": 0,
      "outputs": []
    },
    {
      "cell_type": "code",
      "metadata": {
        "id": "NNUK-Bw2SM-P",
        "colab_type": "code",
        "colab": {
          "base_uri": "https://localhost:8080/",
          "height": 286
        },
        "outputId": "cd5ddf18-4998-4c62-90af-87e6daa0f372"
      },
      "source": [
        "image_tf = tf.expand_dims(tf.convert_to_tensor(image / 255.), axis=0)\n",
        "label_tf = tf.expand_dims(tf.convert_to_tensor(label), axis=0)\n",
        "\n",
        "# kmeans on embedded features before training.\n",
        "feature_np = model(image_tf).numpy()\n",
        "feature_flat = feature_np.reshape((image_size ** 2, 8))\n",
        "label_flat= label.flatten()\n",
        "feature_mask = feature_flat[label_flat > 0]\n",
        "\n",
        "kmeans = KMeans(n_clusters=num_classes, random_state=0).fit(feature_mask)\n",
        "labels_pred = np.zeros_like(label_flat)\n",
        "labels_pred[label_flat > 0] = kmeans.labels_ + 1\n",
        "labels_pred = labels_pred.reshape((image_size, image_size))\n",
        "\n",
        "plt.figure()\n",
        "plt.imshow(labels_pred)"
      ],
      "execution_count": 11,
      "outputs": [
        {
          "output_type": "execute_result",
          "data": {
            "text/plain": [
              "<matplotlib.image.AxesImage at 0x7f0082d016a0>"
            ]
          },
          "metadata": {
            "tags": []
          },
          "execution_count": 11
        },
        {
          "output_type": "display_data",
          "data": {
            "image/png": "[encoded data removed]",
            "text/plain": [
              "<Figure size 432x288 with 1 Axes>"
            ]
          },
          "metadata": {
            "tags": []
          }
        }
      ]
    },
    {
      "cell_type": "code",
      "metadata": {
        "id": "RQUPCTTpScCs",
        "colab_type": "code",
        "colab": {
          "base_uri": "https://localhost:8080/",
          "height": 102
        },
        "outputId": "5bcb8267-f8d2-4f3b-969e-0da1d5f83226"
      },
      "source": [
        "optimizer = tf.keras.optimizers.Adam(learning_rate=0.01)\n",
        "for i in range(100):\n",
        "  with tf.GradientTape() as tape:\n",
        "    feature = model(image_tf)\n",
        "    l = loss(feature, label_tf, num_classes)\n",
        "  \n",
        "  grads = tape.gradient(l, model.model.trainable_weights)\n",
        "  optimizer.apply_gradients(zip(grads, model.model.trainable_weights))\n",
        "  \n",
        "  if i % 20 == 0:\n",
        "    print(l)"
      ],
      "execution_count": 12,
      "outputs": [
        {
          "output_type": "stream",
          "text": [
            "tf.Tensor(0.19716066, shape=(), dtype=float32)\n",
            "tf.Tensor(0.016826805, shape=(), dtype=float32)\n",
            "tf.Tensor(0.0047956104, shape=(), dtype=float32)\n",
            "tf.Tensor(0.0027637177, shape=(), dtype=float32)\n",
            "tf.Tensor(0.0031715014, shape=(), dtype=float32)\n"
          ],
          "name": "stdout"
        }
      ]
    },
    {
      "cell_type": "code",
      "metadata": {
        "id": "o-i-NbofAAsJ",
        "colab_type": "code",
        "colab": {
          "base_uri": "https://localhost:8080/",
          "height": 286
        },
        "outputId": "5af19a71-5cd3-4d38-87ca-390fb3deccde"
      },
      "source": [
        "# kmeans on embedded features after training.\n",
        "feature_np = model(image_tf).numpy()\n",
        "feature_flat = feature_np.reshape((image_size ** 2, 8))\n",
        "label_flat= label.flatten()\n",
        "feature_mask = feature_flat[label_flat > 0]\n",
        "\n",
        "kmeans = KMeans(n_clusters=num_classes, random_state=0).fit(feature_mask)\n",
        "labels_pred = np.zeros_like(label_flat)\n",
        "labels_pred[label_flat > 0] = kmeans.labels_ + 1\n",
        "labels_pred = labels_pred.reshape((image_size, image_size))\n",
        "\n",
        "plt.figure()\n",
        "plt.imshow(labels_pred)"
      ],
      "execution_count": 13,
      "outputs": [
        {
          "output_type": "execute_result",
          "data": {
            "text/plain": [
              "<matplotlib.image.AxesImage at 0x7f0082bbf128>"
            ]
          },
          "metadata": {
            "tags": []
          },
          "execution_count": 13
        },
        {
          "output_type": "display_data",
          "data": {
            "image/png": "[encoded data removed]",
            "text/plain": [
              "<Figure size 432x288 with 1 Axes>"
            ]
          },
          "metadata": {
            "tags": []
          }
        }
      ]
    }
  ]
}